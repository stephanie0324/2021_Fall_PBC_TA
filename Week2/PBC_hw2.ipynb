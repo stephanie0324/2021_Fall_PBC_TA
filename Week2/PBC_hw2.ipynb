{
 "cells": [
  {
   "cell_type": "markdown",
   "metadata": {},
   "source": [
    "## 作業二"
   ]
  },
  {
   "cell_type": "markdown",
   "metadata": {},
   "source": [
    "#### 第一題 <外送員獎金>\n",
    "* 完成一筆訂單的運送可得x元報酬，單日累積滿n單，自n+1單起，每單可得y元報酬"
   ]
  },
  {
   "cell_type": "code",
   "execution_count": 5,
   "metadata": {},
   "outputs": [
    {
     "name": "stdin",
     "output_type": "stream",
     "text": [
      " 15\n",
      " 59\n",
      " 200\n",
      " 19\n"
     ]
    },
    {
     "name": "stdout",
     "output_type": "stream",
     "text": [
      "1685\n"
     ]
    }
   ],
   "source": [
    "basic_num = int(input())\n",
    "basic_money = int(input())\n",
    "bonus = int(input())\n",
    "deliver = int(input())\n",
    "if(deliver <= basic_num):\n",
    "    print(basic_money*deliver)\n",
    "else:\n",
    "    print(basic_money*basic_num+(deliver-basic_num)*bonus)"
   ]
  },
  {
   "cell_type": "markdown",
   "metadata": {},
   "source": [
    "#### 第二題 <外送員日+週獎金>\n",
    "* 承第一題，現在新增一條獎勵規定，單週累積滿m單，可額外獲得獎金b元。"
   ]
  },
  {
   "cell_type": "code",
   "execution_count": 12,
   "metadata": {},
   "outputs": [
    {
     "name": "stdin",
     "output_type": "stream",
     "text": [
      " 10\n",
      " 100\n",
      " 50\n",
      " 100\n",
      " 200\n",
      " 12\n",
      " 9\n",
      " 11\n",
      " 5\n",
      " 17\n",
      " 20\n",
      " 12\n"
     ]
    },
    {
     "name": "stdout",
     "output_type": "stream",
     "text": [
      "5400\n"
     ]
    }
   ],
   "source": [
    "sum_day =0\n",
    "total = 0\n",
    "basic_day = int(input()) \n",
    "basic_week = int(input()) \n",
    "basic_money = int(input()) \n",
    "bonus = int(input()) \n",
    "bonus_week = int(input()) \n",
    "for i in range(7):\n",
    "    days = int(input())\n",
    "    sum_day += days\n",
    "    if(days < basic_day):\n",
    "        total += basic_money*days\n",
    "    else:\n",
    "        total+=basic_money*basic_day\n",
    "        total+=(days-basic_day)*bonus\n",
    "\n",
    "## 算周獎勵\n",
    "if(sum_day >= basic_week ):\n",
    "    total += bonus_week\n",
    "print(total)"
   ]
  },
  {
   "cell_type": "markdown",
   "metadata": {},
   "source": [
    "#### 第三題 <利潤最大的最佳價格>\n",
    "* 你的任務是找出能最大化商品利潤的最佳包裝方法i、最佳整數價格p，以及被最大化的總利潤。\n",
    "* 這裡是要找出最佳解，但是price 不一定座落在 a+bc/2b，要一個一個判斷上去"
   ]
  },
  {
   "cell_type": "code",
   "execution_count": 42,
   "metadata": {},
   "outputs": [
    {
     "name": "stdin",
     "output_type": "stream",
     "text": [
      " 1\n",
      " 10\n",
      " 2\n",
      " 100\n"
     ]
    },
    {
     "name": "stdout",
     "output_type": "stream",
     "text": [
      "1,1000,0\n"
     ]
    }
   ],
   "source": [
    "n = int(input())\n",
    "max_price = -2\n",
    "profit = -2\n",
    "max_profit = -2\n",
    "cnt =0\n",
    "for i in range(1,n+1):\n",
    "    quantity  = int(input())\n",
    "    sensitivity = int(input())\n",
    "    cost = int(input())\n",
    "    demand = 0\n",
    "    if(cost > quantity):\n",
    "        price = 1000\n",
    "        profit =0\n",
    "    else:\n",
    "        price = int((quantity+sensitivity*cost)/(2*sensitivity))\n",
    "        demand = quantity-sensitivity*price\n",
    "        if(demand <0):\n",
    "            demand =0\n",
    "        profit = int((quantity-sensitivity*price)*(price-cost))\n",
    "    if(max_profit < profit):\n",
    "        max_profit = profit\n",
    "        max_price = price\n",
    "        cnt = i\n",
    "    elif(max_profit == profit):\n",
    "        if(max_price < price):\n",
    "            max_price = price\n",
    "            cnt = i\n",
    "print(cnt,max_price,max_profit,sep=',')"
   ]
  },
  {
   "cell_type": "markdown",
   "metadata": {},
   "source": [
    "#### 第三題的正確解"
   ]
  },
  {
   "cell_type": "code",
   "execution_count": 43,
   "metadata": {},
   "outputs": [
    {
     "name": "stdin",
     "output_type": "stream",
     "text": [
      " 1\n",
      " 10\n",
      " 2\n",
      " 100\n"
     ]
    },
    {
     "name": "stdout",
     "output_type": "stream",
     "text": [
      "1,1000,0\n"
     ]
    }
   ],
   "source": [
    "num = int(input())# n\n",
    "bestWay = 1\n",
    "bestPrice = 1000\n",
    "bestProfit = int()\n",
    "\n",
    "for i in range(num):\n",
    "    demand = int(input()) # a 基本需求量\n",
    "    sensitivity = int(input()) # b 價格敏感度\n",
    "    cost = int(input()) # c 單位生產成本\n",
    "    price = int()\n",
    "    profit = int()\n",
    "\n",
    "    if cost > demand:\n",
    "        price = 1000\n",
    "        profit = 0\n",
    "    else:\n",
    "        for j in range (cost, 1000):\n",
    "            if demand - sensitivity * j >= 0 and (demand - sensitivity * j) * (j - cost) >= profit:\n",
    "                profit = (demand - sensitivity * j) * (j - cost)\n",
    "                price = j\n",
    "    if profit > bestProfit:\n",
    "        bestWay = i + 1\n",
    "        bestPrice = price\n",
    "        bestProfit = profit\n",
    "\n",
    "print(bestWay, bestPrice, bestProfit, sep = ',')"
   ]
  },
  {
   "cell_type": "code",
   "execution_count": null,
   "metadata": {},
   "outputs": [],
   "source": [
    "#### 第四題 <>\n"
   ]
  }
 ],
 "metadata": {
  "kernelspec": {
   "display_name": "Python 3",
   "language": "python",
   "name": "python3"
  },
  "language_info": {
   "codemirror_mode": {
    "name": "ipython",
    "version": 3
   },
   "file_extension": ".py",
   "mimetype": "text/x-python",
   "name": "python",
   "nbconvert_exporter": "python",
   "pygments_lexer": "ipython3",
   "version": "3.7.6"
  }
 },
 "nbformat": 4,
 "nbformat_minor": 4
}
