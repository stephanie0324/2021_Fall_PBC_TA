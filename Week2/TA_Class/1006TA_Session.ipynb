{
 "cells": [
  {
   "cell_type": "markdown",
   "metadata": {},
   "source": [
    "## 10/06 TA Session "
   ]
  },
  {
   "cell_type": "markdown",
   "metadata": {},
   "source": [
    "## 第一題\n",
    "#### 字串+數字的列印\n",
    "##### 壞皇后名字與壞蘋果的顆數，最後輸出句子"
   ]
  },
  {
   "cell_type": "code",
   "execution_count": 6,
   "metadata": {},
   "outputs": [
    {
     "name": "stdin",
     "output_type": "stream",
     "text": [
      " Amy\n",
      " 10\n"
     ]
    },
    {
     "name": "stdout",
     "output_type": "stream",
     "text": [
      "There is/are 9 apple(s) in Amy's basket.\n"
     ]
    }
   ],
   "source": [
    "name = input()\n",
    "apple_num = int(input())\n",
    "apple_num -= 1\n",
    "print('There is/are',apple_num,'apple(s) in',name+\"\\'s basket.\")"
   ]
  },
  {
   "cell_type": "markdown",
   "metadata": {},
   "source": [
    "## 第二題\n",
    "#### 字串比較\n",
    "###### 輸入兩個字串看兩兩是否相等"
   ]
  },
  {
   "cell_type": "code",
   "execution_count": 9,
   "metadata": {},
   "outputs": [
    {
     "name": "stdin",
     "output_type": "stream",
     "text": [
      " imfat\n",
      " imthin\n"
     ]
    },
    {
     "name": "stdout",
     "output_type": "stream",
     "text": [
      "False\n"
     ]
    }
   ],
   "source": [
    "str_1 = input()\n",
    "str_2 = input()\n",
    "print(str_1==str_2)"
   ]
  },
  {
   "cell_type": "markdown",
   "metadata": {},
   "source": [
    "## 第三題\n",
    "#### 計算車費\n",
    "###### 輸入里程數，輸出車資\n",
    "* 一公里是80\n",
    "* 一到三公里 120\n",
    "* 三公里以上是 每多一公里加收30元"
   ]
  },
  {
   "cell_type": "code",
   "execution_count": 14,
   "metadata": {},
   "outputs": [
    {
     "name": "stdin",
     "output_type": "stream",
     "text": [
      " 2\n"
     ]
    },
    {
     "name": "stdout",
     "output_type": "stream",
     "text": [
      "$120\n"
     ]
    }
   ],
   "source": [
    "miles = float(input())\n",
    "if(miles <= 1):\n",
    "    print(\"$80.0\")\n",
    "elif(1 < miles <= 3):\n",
    "    print(\"$120.0')\n",
    "else:\n",
    "    miles-=3\n",
    "    miles = 120+30*miles\n",
    "    print(\"$\"+str(miles))"
   ]
  },
  {
   "cell_type": "markdown",
   "metadata": {},
   "source": [
    "## 第四題\n",
    "#### 比大小\n",
    "###### 數入三個數，輸出最大值\n",
    "* 要用條件是做判斷，先不要使用max"
   ]
  },
  {
   "cell_type": "code",
   "execution_count": 16,
   "metadata": {},
   "outputs": [
    {
     "name": "stdin",
     "output_type": "stream",
     "text": [
      " 50\n",
      " 50\n",
      " 50\n"
     ]
    },
    {
     "name": "stdout",
     "output_type": "stream",
     "text": [
      "50.0\n"
     ]
    }
   ],
   "source": [
    "num1 = float(input())\n",
    "max_num = num1        #直接讓 max_num被assign 給 num1，可以避免初始值造成錯誤，例如值小於0或是不夠小⋯⋯等\n",
    "if(num1 >= max_num):\n",
    "    max_num = num1\n",
    "num2 = float(input())\n",
    "if(num2 >= max_num):\n",
    "    max_num = num2\n",
    "num3 = float(input())\n",
    "if(num3 >= max_num):\n",
    "    max_num = num3\n",
    "print(max_num)"
   ]
  },
  {
   "cell_type": "markdown",
   "metadata": {},
   "source": [
    "## 第五題\n",
    "#### 除法\n",
    "###### 輸入被除數與除數，印出商跟餘\n",
    "* 被除數為負數 直接exit\n",
    "* 除數為零，印出error"
   ]
  },
  {
   "cell_type": "code",
   "execution_count": 21,
   "metadata": {},
   "outputs": [
    {
     "name": "stdin",
     "output_type": "stream",
     "text": [
      " 7\n",
      " 3\n"
     ]
    },
    {
     "name": "stdout",
     "output_type": "stream",
     "text": [
      "2,1\n"
     ]
    }
   ],
   "source": [
    "number = float(input())\n",
    "if(number<0):\n",
    "    print(\"exit\")\n",
    "else:\n",
    "    divisor = float(input())\n",
    "    if(divisor == 0):\n",
    "        print(\"error\")\n",
    "    else:\n",
    "        print(int(number/divisor),end=',')\n",
    "        print(int(number%divisor))\n"
   ]
  },
  {
   "cell_type": "code",
   "execution_count": null,
   "metadata": {},
   "outputs": [],
   "source": []
  }
 ],
 "metadata": {
  "kernelspec": {
   "display_name": "Python 3",
   "language": "python",
   "name": "python3"
  },
  "language_info": {
   "codemirror_mode": {
    "name": "ipython",
    "version": 3
   },
   "file_extension": ".py",
   "mimetype": "text/x-python",
   "name": "python",
   "nbconvert_exporter": "python",
   "pygments_lexer": "ipython3",
   "version": "3.7.6"
  }
 },
 "nbformat": 4,
 "nbformat_minor": 4
}
