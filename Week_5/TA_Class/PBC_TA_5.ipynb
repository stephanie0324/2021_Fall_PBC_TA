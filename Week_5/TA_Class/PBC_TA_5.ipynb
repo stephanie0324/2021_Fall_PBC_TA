{
  "nbformat": 4,
  "nbformat_minor": 0,
  "metadata": {
    "colab": {
      "name": "PBC_TA_5",
      "provenance": []
    },
    "kernelspec": {
      "name": "python3",
      "display_name": "Python 3"
    },
    "language_info": {
      "name": "python"
    }
  },
  "cells": [
    {
      "cell_type": "markdown",
      "metadata": {
        "id": "gYFDHIfmdgyb"
      },
      "source": [
        "## 10/27 TA Class"
      ]
    },
    {
      "cell_type": "markdown",
      "metadata": {
        "id": "N8Elzuj4LOdt"
      },
      "source": [
        "#### 第一題 比大小"
      ]
    },
    {
      "cell_type": "code",
      "metadata": {
        "id": "hadSMaMadf0g",
        "colab": {
          "base_uri": "https://localhost:8080/"
        },
        "outputId": "316ef261-da3c-4c2c-c528-c1b5352479d5"
      },
      "source": [
        "a = int(input())\n",
        "b = int(input())\n",
        "print(max(a-b,0))"
      ],
      "execution_count": 2,
      "outputs": [
        {
          "output_type": "stream",
          "name": "stdout",
          "text": [
            "-1\n",
            "8\n",
            "0\n"
          ]
        }
      ]
    },
    {
      "cell_type": "markdown",
      "metadata": {
        "id": "Iv1J10pMLhLP"
      },
      "source": [
        "#### 第二題 裝箱問題\n",
        "* 如果不夠放如果不夠放 就在加箱子箱子\n",
        "* 看最後需要幾個箱子"
      ]
    },
    {
      "cell_type": "code",
      "metadata": {
        "colab": {
          "base_uri": "https://localhost:8080/"
        },
        "id": "c8tpRazWLXkG",
        "outputId": "d1d28af8-227f-4795-e34d-961bebd61460"
      },
      "source": [
        "n,max_weight = [int(i) for i in input().split(\",\")]\n",
        "things_ =  [int(i) for i in input().split(\",\")]\n",
        "things_= sorted(things_,reverse=True)\n",
        "remaining_cap=[max_weight]\n",
        "for i in range(n):\n",
        "  put = False\n",
        "  for j in range(len(remaining_cap)):\n",
        "    if(things_[i]<=remaining_cap[j]):\n",
        "      put=True\n",
        "      remaining_cap[j]-=things_[i]\n",
        "      break\n",
        "  if put ==False:\n",
        "    remaining_cap.append(max_weight-things_[i])\n",
        "print(len(remaining_cap))"
      ],
      "execution_count": 11,
      "outputs": [
        {
          "output_type": "stream",
          "name": "stdout",
          "text": [
            "3,11\n",
            "10,3,6\n",
            "2\n"
          ]
        }
      ]
    },
    {
      "cell_type": "markdown",
      "metadata": {
        "id": "H7c5bpdlYVLd"
      },
      "source": [
        "#### 第三題"
      ]
    },
    {
      "cell_type": "code",
      "metadata": {
        "colab": {
          "base_uri": "https://localhost:8080/"
        },
        "id": "szOR-MVfYW-A",
        "outputId": "a3a7926f-59b0-4256-dae5-5e1265720186"
      },
      "source": [
        "count = int(input())\n",
        "num = [int(i) for i in input().split(\",\")]\n",
        "min_y = 999\n",
        "for i in range(count-1):\n",
        "  diff = num[i]-num[i+1]\n",
        "  if(diff <0):\n",
        "    diff =0\n",
        "  if diff < min_y:\n",
        "    min_y = diff\n",
        "print(min_y)"
      ],
      "execution_count": 17,
      "outputs": [
        {
          "output_type": "stream",
          "name": "stdout",
          "text": [
            "3\n",
            "4,6,8\n",
            "0\n"
          ]
        }
      ]
    },
    {
      "cell_type": "markdown",
      "metadata": {
        "id": "FJFEjJftYXIj"
      },
      "source": [
        "第四題"
      ]
    },
    {
      "cell_type": "code",
      "metadata": {
        "colab": {
          "base_uri": "https://localhost:8080/",
          "height": 198
        },
        "id": "HTD80UU4ZadT",
        "outputId": "162dbb28-d8df-4be9-ebf3-6cf60fcd2426"
      },
      "source": [
        ""
      ],
      "execution_count": 14,
      "outputs": [
        {
          "output_type": "error",
          "ename": "TypeError",
          "evalue": "ignored",
          "traceback": [
            "\u001b[0;31m---------------------------------------------------------------------------\u001b[0m",
            "\u001b[0;31mTypeError\u001b[0m                                 Traceback (most recent call last)",
            "\u001b[0;32m<ipython-input-14-da769013596c>\u001b[0m in \u001b[0;36m<module>\u001b[0;34m()\u001b[0m\n\u001b[1;32m      1\u001b[0m \u001b[0mnum_list\u001b[0m \u001b[0;34m=\u001b[0m\u001b[0;34m[\u001b[0m\u001b[0;36m1\u001b[0m\u001b[0;34m,\u001b[0m\u001b[0;36m2\u001b[0m\u001b[0;34m,\u001b[0m\u001b[0;36m3\u001b[0m\u001b[0;34m]\u001b[0m\u001b[0;34m\u001b[0m\u001b[0;34m\u001b[0m\u001b[0m\n\u001b[0;32m----> 2\u001b[0;31m \u001b[0;32mfor\u001b[0m \u001b[0mi\u001b[0m \u001b[0;32min\u001b[0m \u001b[0mrange\u001b[0m\u001b[0;34m(\u001b[0m\u001b[0mnum_list\u001b[0m\u001b[0;34m)\u001b[0m\u001b[0;34m:\u001b[0m\u001b[0;34m\u001b[0m\u001b[0;34m\u001b[0m\u001b[0m\n\u001b[0m\u001b[1;32m      3\u001b[0m   \u001b[0mprint\u001b[0m\u001b[0;34m(\u001b[0m\u001b[0mi\u001b[0m\u001b[0;34m)\u001b[0m\u001b[0;34m\u001b[0m\u001b[0;34m\u001b[0m\u001b[0m\n",
            "\u001b[0;31mTypeError\u001b[0m: 'list' object cannot be interpreted as an integer"
          ]
        }
      ]
    },
    {
      "cell_type": "code",
      "metadata": {
        "id": "N0mDmhMiYXZn"
      },
      "source": [
        ""
      ],
      "execution_count": null,
      "outputs": []
    },
    {
      "cell_type": "markdown",
      "metadata": {
        "id": "EHJlo1doU4fj"
      },
      "source": [
        "## 作業解答區\n"
      ]
    },
    {
      "cell_type": "code",
      "metadata": {
        "id": "aNO0llfGOULe"
      },
      "source": [
        "#### 同學1 hw3 Q4\n",
        "#### 測資設計錯誤 \n",
        "### 已解決\n",
        "# 輸入資訊並轉成整數\n",
        "stuff_and_max_weights = [int(n) for n in input().split(',')]\n",
        "weights = [int(n) for n in input().split(',')]\n",
        "utility = [int(n) for n in input().split(',')]\n",
        "ways = int(input())\n",
        "all_input = []\n",
        "all_ways_weight = []  # 裝 從編號0到ways的重量\n",
        "all_ways_utility = []  # 裝 從編號0到ways的效用\n",
        "number = 0  # 編號\n",
        "\n",
        "# 把所有input全部放到一個list\n",
        "for way in range(ways):\n",
        "    all_input.append(input().split(','))\n",
        "\n",
        "# 轉成整數\n",
        "for i in range(len(all_input)):\n",
        "    for j in range(len(weights) + 1):\n",
        "        all_input[i][j] = int(all_input[i][j])\n",
        "\n",
        "# print(all_input)\n",
        "\n",
        "better_weights = 0\n",
        "better_utility = -1\n",
        "\n",
        "# 找出每個可能結果的重量\n",
        "for way in range(ways):\n",
        "    each_weight = 0\n",
        "    each_way_weight = 0\n",
        "\n",
        "    for weight in range(len(weights)):\n",
        "        each_weight = weights[weight] * all_input[way][weight + 1]\n",
        "        each_way_weight = each_way_weight + each_weight\n",
        "\n",
        "    all_ways_weight.append(each_way_weight)\n",
        "\n",
        "# print(all_ways_weight)\n",
        "\n",
        "\n",
        "# 找出每個可能結果的效用\n",
        "for way in range(ways):\n",
        "    each_utility = 0\n",
        "    each_way_utility = 0\n",
        "\n",
        "    for uti in range(len(utility)):\n",
        "        each_utility = utility[uti] * all_input[way][uti + 1]\n",
        "        each_way_utility = each_way_utility + each_utility\n",
        "\n",
        "    all_ways_utility.append(each_way_utility)\n",
        "\n",
        "# print(all_ways_utility)\n",
        "\n",
        "for way in range(ways):\n",
        "    if all_ways_utility[way] > better_utility and all_ways_weight[way] <= stuff_and_max_weights[1]:\n",
        "        better_utility = all_ways_utility[way]\n",
        "        better_weights = all_ways_weight[way]\n",
        "        number = all_input[way][0]\n",
        "    elif all_ways_utility[way] == better_utility and all_ways_weight[way] <= stuff_and_max_weights[1]:\n",
        "        if all_input[way][0] < number:\n",
        "            better_utility = all_ways_utility[way]\n",
        "            better_weights = all_ways_weight[way]\n",
        "            number = all_input[way][0]\n",
        "\n",
        "print(number, better_weights, better_utility, sep=',')\n"
      ],
      "execution_count": null,
      "outputs": []
    },
    {
      "cell_type": "code",
      "metadata": {
        "id": "RwACR-DxVBX6"
      },
      "source": [
        "6,1\n",
        "5,15,4,10,11,16,1,1\n",
        "6,5,4,4,3,4,1,1\n",
        "5\n",
        "4,0,0,0,0,0,0\n",
        "3,0,0,0,0,0,0\n",
        "1,0,0,0,0,0,0\n",
        "2,0,0,0,0,0,0\n",
        "5,0,0,0,0,0,0"
      ],
      "execution_count": null,
      "outputs": []
    }
  ]
}