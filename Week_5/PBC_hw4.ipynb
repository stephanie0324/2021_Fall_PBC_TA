{
  "nbformat": 4,
  "nbformat_minor": 0,
  "metadata": {
    "colab": {
      "name": "PBC_hw4.ipynb",
      "provenance": [],
      "collapsed_sections": []
    },
    "kernelspec": {
      "name": "python3",
      "display_name": "Python 3"
    },
    "language_info": {
      "name": "python"
    }
  },
  "cells": [
    {
      "cell_type": "markdown",
      "metadata": {
        "id": "HDpyaYuRjfQJ"
      },
      "source": [
        "## 作業四"
      ]
    },
    {
      "cell_type": "markdown",
      "metadata": {
        "id": "ifgdmBErjiU7"
      },
      "source": [
        "#### Q1 -  炭治郎購買食材\n",
        "* n 種面額,$$p_1 > p_2 > p_3> ... > p_n$$\n",
        "* m 種食材\n",
        "* 第 j 種食材 價格為 q"
      ]
    },
    {
      "cell_type": "code",
      "metadata": {
        "colab": {
          "base_uri": "https://localhost:8080/"
        },
        "id": "9mcd2-u1jc3u",
        "outputId": "3019be21-359f-4e3b-8049-4e184c613e5d"
      },
      "source": [
        "total = 0\n",
        "n,m = [int(i) for i in input().split(\",\")]\n",
        "num = [int(i) for i in input().split(\",\")]\n",
        "quant = [int(i) for i in input().split(\",\")]\n",
        "for i in range(n) :\n",
        "  total += num[i]*quant[i]\n",
        "veg_list = [int(i) for i in input().split(\",\")]\n",
        "for i in range(m):\n",
        "  if(total >= veg_list[i]):\n",
        "    total -= veg_list[i]\n",
        "print(total)"
      ],
      "execution_count": 7,
      "outputs": [
        {
          "output_type": "stream",
          "name": "stdout",
          "text": [
            "3,4\n",
            "1,5,10\n",
            "18,6,8\n",
            "50,30,70,10\n",
            "38\n"
          ]
        }
      ]
    },
    {
      "cell_type": "markdown",
      "metadata": {
        "id": "ZnzeVfFyneZk"
      },
      "source": [
        "#### Q2 -  蓋消防局\n",
        "* 每個城鎮 i\n",
        "* 預期火災 h_i\n",
        "* 城鎮i j 之間的距離為 d_ij"
      ]
    },
    {
      "cell_type": "code",
      "metadata": {
        "colab": {
          "base_uri": "https://localhost:8080/"
        },
        "id": "62Ztb4hJleRT",
        "outputId": "04ceaf70-76ed-4bde-c4f6-cb221d8c2a6b"
      },
      "source": [
        "choose_list=[]\n",
        "n = int(input())\n",
        "fire_list=[int(i) for i in input().split(\",\")]\n",
        "for i in range(n):\n",
        "  total =0\n",
        "  dist_list = [float(j) for j in input().split(\",\")]\n",
        "\n",
        "  for k in range(n):\n",
        "    total += fire_list[k]*dist_list[k]\n",
        "  choose_list.append(total)\n",
        "\n",
        "min_num = choose_list[0]\n",
        "index =0\n",
        "\n",
        "for i in range(len(choose_list)):\n",
        "  if(choose_list[i] < min_num):\n",
        "    min_num = choose_list[i]\n",
        "    index = i\n",
        "str_num = str(min_num)\n",
        "if(str_num[len(str_num)-1]!='0'):\n",
        "  print(index+1,min_num,sep=',')\n",
        "else:\n",
        "  print(index+1,int(min_num),sep=',')\n"
      ],
      "execution_count": 20,
      "outputs": [
        {
          "output_type": "stream",
          "name": "stdout",
          "text": [
            "1\n",
            "3\n",
            "0\n",
            "1,0\n"
          ]
        }
      ]
    },
    {
      "cell_type": "markdown",
      "metadata": {
        "id": "7wiArjDlsVS5"
      },
      "source": [
        "#### Q3 - HW4 (3) 蓋消防局二"
      ]
    },
    {
      "cell_type": "code",
      "metadata": {
        "colab": {
          "base_uri": "https://localhost:8080/"
        },
        "id": "QaDy7W8AsXiG",
        "outputId": "85076f9a-7b2f-4d37-d88d-085c0fbfe128"
      },
      "source": [
        "num_list=[]\n",
        "chosen_list=[]\n",
        "matrix=[]\n",
        "first_dist_list=[]\n",
        "chosen_index=''\n",
        "max_index=0\n",
        "\n",
        "#### 各種輸入\n",
        "n,k = [int(i) for i in input().split(\",\")]\n",
        "left=n-k\n",
        "fire_list=[int(i) for i in input().split(\",\")]\n",
        "for i in range(n):\n",
        "  num_list.append(i+1)\n",
        "\n",
        "for i in range(n):\n",
        "  matrix.append([float(i) for i in input().split(\",\")])\n",
        "\n",
        "# 選出最小值\n",
        "for i in range(n):\n",
        "  dist=0\n",
        "  for j in range(n):\n",
        "    dist += fire_list[j]*matrix[i][j]\n",
        "  first_dist_list.append(dist)\n",
        "\n",
        "min_dist = first_dist_list[0]\n",
        "min_index =1\n",
        "for i in range(n):\n",
        "  if(first_dist_list[i] < min_dist):\n",
        "    min_index = i+1\n",
        "    min_dist = first_dist_list[i]\n",
        "\n",
        "chosen_index = str(min_index)\n",
        "chosen_list.append(min_index)\n",
        "cnt=0\n",
        "k-=1\n",
        "# 選出最遠\n",
        "index=0\n",
        "for i in range(k):\n",
        "  max_distance = -1\n",
        "  for j in reversed(range(n)):\n",
        "    if (j+1 not in chosen_list):\n",
        "      min_distance = 1000\n",
        "      for l in range(len(chosen_list)):\n",
        "        if(matrix[j][chosen_list[l] - 1] < min_distance):\n",
        "          min_distance = matrix[j][chosen_list[l] - 1]\n",
        "      if(min_distance >= max_distance):\n",
        "        max_distance = min_distance\n",
        "        index = j + 1\n",
        "  chosen_list.append(index)\n",
        "  chosen_index = chosen_index+','+str(index)\n",
        "  \n",
        "#### 算出最後距離\n",
        "prob =0\n",
        "for i in range(n):\n",
        "    if i+1 not in chosen_list:\n",
        "        curr_route = float('inf')\n",
        "        for j in chosen_list:\n",
        "            if matrix[i][j-1] < curr_route:\n",
        "                curr_route = matrix[i][j-1]\n",
        "        prob += int(curr_route * fire_list[i])\n",
        "\n",
        "  \n",
        "print(chosen_index+\";\"+str(prob))"
      ],
      "execution_count": 35,
      "outputs": [
        {
          "output_type": "stream",
          "name": "stdout",
          "text": [
            "3,2\n",
            "2,9,1\n",
            "0,4,6\n",
            "4,0,4\n",
            "6,4,0\n",
            "2,1;4.0\n"
          ]
        }
      ]
    },
    {
      "cell_type": "markdown",
      "metadata": {
        "id": "HIDHPavRX5Bu"
      },
      "source": [
        "#### Q4 - 炭治郎購買最大總價值食材"
      ]
    },
    {
      "cell_type": "code",
      "metadata": {
        "colab": {
          "base_uri": "https://localhost:8080/"
        },
        "id": "TzDB6O3G8f1p",
        "outputId": "a634304d-2223-4c23-c6e3-72f3d32bed98"
      },
      "source": [
        "n ,m = [int(i) for i in input().split(\",\")]\n",
        "price_list= [int(i) for i in input().split(\",\")]\n",
        "number_list =  [int(i) for i in input().split(\",\")]\n",
        "quantity =  [int(i) for i in input().split(\",\")]\n",
        "total =0\n",
        "\n",
        "#算錢\n",
        "for i in range(n):\n",
        "  total+=price_list[i]*number_list[i]\n",
        "\n",
        "## 考慮怎麼買\n",
        "possible_list=[0]\n",
        "for i in range(m):\n",
        "  for j in range(len(possible_list)):\n",
        "    if possible_list[j] + int(quantity[i]) <= total:\n",
        "      possible_list.append(possible_list[j] + int(quantity[i]))\n",
        "cost = max(possible_list)\n",
        "total-= cost\n",
        "print(total)"
      ],
      "execution_count": 44,
      "outputs": [
        {
          "output_type": "stream",
          "name": "stdout",
          "text": [
            "3,4\n",
            "1,5,10\n",
            "18,6,8\n",
            "50,30,70,10\n",
            "[0, 50, 30, 80, 70, 120, 100, 10, 60, 40, 90, 80, 110]\n",
            "8\n"
          ]
        }
      ]
    },
    {
      "cell_type": "markdown",
      "metadata": {
        "id": "KvVfbUXrsn8Y"
      },
      "source": [
        "4,3\n",
        "7,4,9,2\n",
        "0,3,5,6\n",
        "3,0,4,3\n",
        "5,4,0,4\n",
        "6,3,4,0\n"
      ]
    },
    {
      "cell_type": "code",
      "metadata": {
        "id": "ZvpXZsqUprCI"
      },
      "source": [
        "matrix = [[]]"
      ],
      "execution_count": 26,
      "outputs": []
    },
    {
      "cell_type": "code",
      "metadata": {
        "colab": {
          "base_uri": "https://localhost:8080/"
        },
        "id": "pU-BuEK2zJSc",
        "outputId": "a83510e3-fa75-41a0-b600-1ff2ae32c630"
      },
      "source": [
        "num_list=[1,2,3,4,5]\n",
        "chosen_list=[2,4]\n",
        "for j in range(len(num_list)):\n",
        "  if(num_list[j] not in  chosen_list):\n",
        "    print(num_list[j])"
      ],
      "execution_count": 3,
      "outputs": [
        {
          "output_type": "stream",
          "name": "stdout",
          "text": [
            "1\n",
            "3\n",
            "5\n"
          ]
        }
      ]
    },
    {
      "cell_type": "code",
      "metadata": {
        "id": "LTpL2zalfiLC"
      },
      "source": [
        ""
      ],
      "execution_count": null,
      "outputs": []
    }
  ]
}