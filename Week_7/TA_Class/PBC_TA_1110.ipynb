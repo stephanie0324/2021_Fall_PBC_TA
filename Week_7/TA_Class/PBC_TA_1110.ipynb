{
  "nbformat": 4,
  "nbformat_minor": 0,
  "metadata": {
    "colab": {
      "name": "PBC_TA_1110.ipynb",
      "provenance": [],
      "collapsed_sections": []
    },
    "kernelspec": {
      "name": "python3",
      "display_name": "Python 3"
    },
    "language_info": {
      "name": "python"
    }
  },
  "cells": [
    {
      "cell_type": "markdown",
      "metadata": {
        "id": "--Y3USIoKa1t"
      },
      "source": [
        "## 11/10 TA Session"
      ]
    },
    {
      "cell_type": "markdown",
      "metadata": {
        "id": "_5QwJz3aKhru"
      },
      "source": [
        "#### 範例一\n",
        "設計簡易計算機"
      ]
    },
    {
      "cell_type": "code",
      "metadata": {
        "colab": {
          "base_uri": "https://localhost:8080/"
        },
        "id": "a5vmjdt7KHB5",
        "outputId": "7242382a-640b-439b-99b5-0f25823b376d"
      },
      "source": [
        "def calculator():\n",
        "  cal = str(input())\n",
        "  num_1 = float(input())\n",
        "  num_2 = float(input())\n",
        "  total =0\n",
        "  if(cal=='1'):\n",
        "    #### 做相加\n",
        "    total = num_1 + num_2\n",
        "  elif(cal=='2'):\n",
        "    #### 做相減\n",
        "    total = num_1 - num_2\n",
        "  elif(cal == '3'):\n",
        "    #### 做相乘\n",
        "    total = num_1 * num_2\n",
        "\n",
        "  return total\n",
        "\n",
        "calculator()\n"
      ],
      "execution_count": 2,
      "outputs": [
        {
          "name": "stdout",
          "output_type": "stream",
          "text": [
            "1\n",
            "2\n",
            "7\n"
          ]
        },
        {
          "output_type": "execute_result",
          "data": {
            "text/plain": [
              "9.0"
            ]
          },
          "metadata": {},
          "execution_count": 2
        }
      ]
    },
    {
      "cell_type": "markdown",
      "metadata": {
        "id": "Lf4w1XC1Nrbn"
      },
      "source": [
        "#### 計算機（二）- 對數運算"
      ]
    },
    {
      "cell_type": "code",
      "metadata": {
        "colab": {
          "base_uri": "https://localhost:8080/"
        },
        "id": "8wMbIDvIMl9L",
        "outputId": "54291add-6eb4-4de8-ee30-07e1d39ad6ce"
      },
      "source": [
        "import math\n",
        "def calculator_2():\n",
        "  cal = str(input())\n",
        "  num = float(input())\n",
        "  total =0\n",
        "  if(cal=='1'):\n",
        "    #### 做2為底數的對數\n",
        "    total = math.log(num,2)\n",
        "  elif(cal=='2'):\n",
        "    #### 做e為底數的對數\n",
        "    total = math.log(num)\n",
        "  elif(cal == '3'):\n",
        "    #### 做平方\n",
        "    total = num**2\n",
        "\n",
        "  return total\n",
        "\n",
        "calculator_2()"
      ],
      "execution_count": 6,
      "outputs": [
        {
          "name": "stdout",
          "output_type": "stream",
          "text": [
            "2\n",
            "250\n"
          ]
        },
        {
          "output_type": "execute_result",
          "data": {
            "text/plain": [
              "5.521460917862246"
            ]
          },
          "metadata": {},
          "execution_count": 6
        }
      ]
    },
    {
      "cell_type": "markdown",
      "metadata": {
        "id": "TlraucytUjNt"
      },
      "source": [
        "#### 費氏數列\n"
      ]
    },
    {
      "cell_type": "code",
      "metadata": {
        "colab": {
          "base_uri": "https://localhost:8080/"
        },
        "id": "7F1cuHE7REmc",
        "outputId": "7f6741f9-ba80-48df-b124-3d9b25339d99"
      },
      "source": [
        "def fib(n):\n",
        "  if(n==0):\n",
        "    return 0\n",
        "  elif(n==1):\n",
        "    return 1\n",
        "  else:\n",
        "    return fib(n-1)+fib(n-2)\n",
        "num = int(input())\n",
        "fib(num) "
      ],
      "execution_count": 9,
      "outputs": [
        {
          "name": "stdout",
          "output_type": "stream",
          "text": [
            "20\n"
          ]
        },
        {
          "output_type": "execute_result",
          "data": {
            "text/plain": [
              "6765"
            ]
          },
          "metadata": {},
          "execution_count": 9
        }
      ]
    },
    {
      "cell_type": "markdown",
      "metadata": {
        "id": "xzlKfXApYIz7"
      },
      "source": [
        "#### 最大公因數"
      ]
    },
    {
      "cell_type": "code",
      "metadata": {
        "colab": {
          "base_uri": "https://localhost:8080/"
        },
        "id": "bSm1gs3iU_M9",
        "outputId": "6400fd71-0ab6-4524-eca7-d32ddd955a3b"
      },
      "source": [
        "def common_fac(num_1,num_2):\n",
        "  tmp=0\n",
        "  if(num_1 >=num_2):\n",
        "    tmp = num_1 % num_2\n",
        "    if(tmp == 0):\n",
        "      print(num_2)\n",
        "    else:\n",
        "      common_fac(num_2,tmp)\n",
        "  else:\n",
        "    tmp = num_2 % num_1\n",
        "    if(tmp == 0):\n",
        "      print(num_1)\n",
        "    else:\n",
        "      common_fac(num_1,tmp)\n",
        "\n",
        "num_1 = int(input())\n",
        "num_2 = int(input())\n",
        "\n",
        "common_fac(num_1 , num_2)"
      ],
      "execution_count": 18,
      "outputs": [
        {
          "output_type": "stream",
          "name": "stdout",
          "text": [
            "15\n",
            "20\n",
            "5\n"
          ]
        }
      ]
    },
    {
      "cell_type": "code",
      "metadata": {
        "id": "1hjGNNZZZEDY"
      },
      "source": [
        "2"
      ],
      "execution_count": null,
      "outputs": []
    }
  ]
}