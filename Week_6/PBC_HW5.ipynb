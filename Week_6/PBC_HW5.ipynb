{
 "cells": [
  {
   "cell_type": "markdown",
   "metadata": {},
   "source": [
    "## 作業五"
   ]
  },
  {
   "cell_type": "markdown",
   "metadata": {},
   "source": [
    "#### Q1 - 元病毒的確診人數\n",
    "* 寫一個名為mono_inc的函數\n",
    "    * inlist\n",
    "    * k\n",
    "* 回傳 start ,end 的 index"
   ]
  },
  {
   "cell_type": "code",
   "execution_count": 30,
   "metadata": {},
   "outputs": [
    {
     "name": "stdin",
     "output_type": "stream",
     "text": [
      " 0,1,2,3,4\n",
      " 5\n"
     ]
    },
    {
     "name": "stdout",
     "output_type": "stream",
     "text": [
      "None\n"
     ]
    }
   ],
   "source": [
    "def mono_inc(inlist,k=3):\n",
    "    max_cnt =0\n",
    "    cnt =0\n",
    "    max_start =0\n",
    "    max_end =0\n",
    "    tmp_start =0\n",
    "    tmp_end=0\n",
    "    if(len(inlist)-1<k):\n",
    "        print(\"None\")\n",
    "    else:\n",
    "        for i in range(len(inlist)):\n",
    "            if(i<len(inlist)-1):\n",
    "                if(inlist[i]<inlist[i+1]):\n",
    "                    if(cnt==0):\n",
    "                        tmp_start = i\n",
    "                    cnt+=1\n",
    "                    tmp_end = i+1\n",
    "                else:\n",
    "                    if(cnt > max_cnt):\n",
    "                        max_start = tmp_start\n",
    "                        max_end= tmp_end\n",
    "                        max_cnt = cnt\n",
    "                    cnt=0\n",
    "            if(cnt > max_cnt):\n",
    "                max_start = tmp_start\n",
    "                max_end= tmp_end\n",
    "                max_cnt = cnt\n",
    "                    \n",
    "            \n",
    "    if(max_cnt>=k):\n",
    "        print(max_start)\n",
    "        print(max_end)\n",
    "    elif(max_cnt<k and len(inlist)-1>= k):\n",
    "        print(\"None\")\n",
    "    \n",
    "\n",
    "inlist=[int(i) for i in input().split(\",\")]\n",
    "k = int(input())\n",
    "if(k>=3):\n",
    "    mono_inc(inlist,k)\n",
    "else:\n",
    "    mono_inc(inlist)\n",
    "    "
   ]
  },
  {
   "cell_type": "markdown",
   "metadata": {},
   "source": [
    "#### Q2 -  元病毒的確診人數 2\n",
    "* 有多組符合"
   ]
  },
  {
   "cell_type": "code",
   "execution_count": null,
   "metadata": {},
   "outputs": [],
   "source": [
    "def mono_inc(inlist,k=3):\n",
    "    max_cnt =0\n",
    "    cnt =0\n",
    "    max_start =0\n",
    "    max_end =0\n",
    "    tmp_start =0\n",
    "    tmp_end=0\n",
    "    if(len(inlist)-1<k):\n",
    "        print(\"None\")\n",
    "    else:\n",
    "        for i in range(len(inlist)):\n",
    "            if(i<len(inlist)-1):\n",
    "                if(inlist[i]<inlist[i+1]):\n",
    "                    if(cnt==0):\n",
    "                        tmp_start = i\n",
    "                    cnt+=1\n",
    "                    tmp_end = i+1\n",
    "                else:\n",
    "                    if(cnt > max_cnt):\n",
    "                        max_start = tmp_start\n",
    "                        max_end= tmp_end\n",
    "                        max_cnt = cnt\n",
    "                    cnt=0\n",
    "            if(cnt > max_cnt):\n",
    "                max_start = tmp_start\n",
    "                max_end= tmp_end\n",
    "                max_cnt = cnt\n",
    "                    \n",
    "            \n",
    "    if(max_cnt>=k):\n",
    "        print(max_start)\n",
    "        print(max_end)\n",
    "    elif(max_cnt<k and len(inlist)-1>= k):\n",
    "        print(\"None\")\n",
    "    \n",
    "\n",
    "inlist=[int(i) for i in input().split(\",\")]\n",
    "k = int(input())\n",
    "if(k>=3):\n",
    "    mono_inc(inlist,k)\n",
    "else:\n",
    "    mono_inc(inlist)\n",
    "    "
   ]
  }
 ],
 "metadata": {
  "kernelspec": {
   "display_name": "Python 3",
   "language": "python",
   "name": "python3"
  },
  "language_info": {
   "codemirror_mode": {
    "name": "ipython",
    "version": 3
   },
   "file_extension": ".py",
   "mimetype": "text/x-python",
   "name": "python",
   "nbconvert_exporter": "python",
   "pygments_lexer": "ipython3",
   "version": "3.7.6"
  }
 },
 "nbformat": 4,
 "nbformat_minor": 4
}
