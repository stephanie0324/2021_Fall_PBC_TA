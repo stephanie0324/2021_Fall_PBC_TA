{
 "cells": [
  {
   "cell_type": "markdown",
   "metadata": {},
   "source": [
    "## Week TA Session"
   ]
  },
  {
   "cell_type": "markdown",
   "metadata": {},
   "source": [
    "#### Q1 讀入逗號分格的字串，印出奇數項"
   ]
  },
  {
   "cell_type": "code",
   "execution_count": 14,
   "metadata": {},
   "outputs": [
    {
     "name": "stdin",
     "output_type": "stream",
     "text": [
      " 1,2,3\n"
     ]
    },
    {
     "name": "stdout",
     "output_type": "stream",
     "text": [
      "1\n",
      "3\n"
     ]
    }
   ],
   "source": [
    "num_list=input().split(\",\")\n",
    "for i in range(0,len(num_list),2):\n",
    "    if(i%2!=0):\n",
    "        print(num_list[i])"
   ]
  },
  {
   "cell_type": "markdown",
   "metadata": {},
   "source": [
    "#### Q2 切割字串"
   ]
  },
  {
   "cell_type": "code",
   "execution_count": 15,
   "metadata": {},
   "outputs": [
    {
     "name": "stdin",
     "output_type": "stream",
     "text": [
      " apple banana carrot\n",
      " banana\n"
     ]
    },
    {
     "name": "stdout",
     "output_type": "stream",
     "text": [
      "Match 1\n"
     ]
    }
   ],
   "source": [
    "str_1 = input().split(\" \")\n",
    "str_2 = input()\n",
    "bool_match = 0\n",
    "for i in range(len(str_1)):\n",
    "    if(str_1[i]==str_2):\n",
    "        print('Match',i)\n",
    "        bool_match=1\n",
    "if(bool_match==0):\n",
    "    print('None')\n",
    "        \n"
   ]
  },
  {
   "cell_type": "markdown",
   "metadata": {},
   "source": [
    "#### Q3 巢狀迴圈"
   ]
  },
  {
   "cell_type": "code",
   "execution_count": 20,
   "metadata": {},
   "outputs": [
    {
     "name": "stdin",
     "output_type": "stream",
     "text": [
      " 2,1,7,9\n"
     ]
    },
    {
     "name": "stdout",
     "output_type": "stream",
     "text": [
      "2\n",
      "2,3\n",
      "2,3,10\n",
      "2,3,10,19\n"
     ]
    }
   ],
   "source": [
    "str_1 = input().split(\",\")\n",
    "sum =0\n",
    "num_list =[]\n",
    "for i in range(len(str_1)):\n",
    "    sum+=int(str_1[i])\n",
    "    num_list.append(sum)\n",
    "for j in range(len(num_list)+1):\n",
    "    for k in range(j):\n",
    "        if(k!=j-1):\n",
    "            print(num_list[k],end=',')\n",
    "        else:\n",
    "            print(num_list[k])"
   ]
  },
  {
   "cell_type": "markdown",
   "metadata": {},
   "source": [
    "#### 移除重複數字"
   ]
  },
  {
   "cell_type": "code",
   "execution_count": 40,
   "metadata": {},
   "outputs": [
    {
     "name": "stdin",
     "output_type": "stream",
     "text": [
      " 1,2,4,2,4,2\n"
     ]
    },
    {
     "name": "stdout",
     "output_type": "stream",
     "text": [
      "4 2 1\n"
     ]
    }
   ],
   "source": [
    "str_1 = input().split(\",\")\n",
    "list_1=[]\n",
    "for i in range(len(str_1)):\n",
    "    list_1.append(int(str_1[i]))\n",
    "list_1 = sorted(list_1,reverse=True)\n",
    "tmp=int()\n",
    "for i in range(len(list_1)):\n",
    "    if(i!=(len(list_1)-1)):\n",
    "        if(list_1[i]!=tmp):\n",
    "            print(list_1[i],end=' ')\n",
    "            tmp = list_1[i]\n",
    "        else:\n",
    "            tmp = list_1[i]\n",
    "    else:\n",
    "        print(list_1[i])"
   ]
  },
  {
   "cell_type": "code",
   "execution_count": null,
   "metadata": {},
   "outputs": [],
   "source": []
  }
 ],
 "metadata": {
  "kernelspec": {
   "display_name": "Python 3",
   "language": "python",
   "name": "python3"
  },
  "language_info": {
   "codemirror_mode": {
    "name": "ipython",
    "version": 3
   },
   "file_extension": ".py",
   "mimetype": "text/x-python",
   "name": "python",
   "nbconvert_exporter": "python",
   "pygments_lexer": "ipython3",
   "version": "3.7.6"
  }
 },
 "nbformat": 4,
 "nbformat_minor": 4
}
