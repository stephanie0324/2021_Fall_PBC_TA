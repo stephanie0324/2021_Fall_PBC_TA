{
 "cells": [
  {
   "cell_type": "markdown",
   "metadata": {},
   "source": [
    "## 2021_10_17 作業三"
   ]
  },
  {
   "cell_type": "markdown",
   "metadata": {},
   "source": [
    "#### Q1 - 小陳賣商品的市場分析\n",
    "* 數值可能很小，為負\n",
    "* input 可以以這種方式輸入"
   ]
  },
  {
   "cell_type": "code",
   "execution_count": 8,
   "metadata": {},
   "outputs": [
    {
     "name": "stdin",
     "output_type": "stream",
     "text": [
      " 8,30\n",
      " 20,90,30,70,40,80,88,100\n",
      " 10,25,13,100,9,80,30,20\n"
     ]
    },
    {
     "name": "stdout",
     "output_type": "stream",
     "text": [
      "0 -100\n",
      "1 1500\n",
      "2 0\n",
      "3 4000\n",
      "4 90\n",
      "5 4000\n",
      "6 1740\n",
      "7 1400\n",
      "90,1500\n"
     ]
    }
   ],
   "source": [
    "n,c = [int(i) for i in input().split(\",\")]\n",
    "price_list = [int(i) for i in input().split(\",\")]\n",
    "demand_list= [int(i) for i in input().split(\",\")]\n",
    "\n",
    "max_price =price_list[0]\n",
    "max_profit = (price_list[0]-c)*demand_list[0]\n",
    "\n",
    "for i in range(n):\n",
    "    profit = (price_list[i]-c)*demand_list[i]\n",
    "    if(profit >= max_profit):\n",
    "        if(profit==max_profit):\n",
    "            if(price_list[i]>max_price):\n",
    "                max_price = price_list[i]\n",
    "                max_profit = profit\n",
    "        else:\n",
    "            max_price = price_list[i]\n",
    "            max_profit = profit\n",
    "print(max_price,max_profit,sep=',')"
   ]
  },
  {
   "cell_type": "markdown",
   "metadata": {},
   "source": [
    "#### Q1 - 小陳賣商品的市場分析二\n",
    "* 請選擇能帶來最大需求量的價格"
   ]
  },
  {
   "cell_type": "code",
   "execution_count": 10,
   "metadata": {},
   "outputs": [
    {
     "name": "stdin",
     "output_type": "stream",
     "text": [
      " 5,10\n",
      " 20,30,40,95,100\n",
      " 100,90,80,30,20\n"
     ]
    },
    {
     "name": "stdout",
     "output_type": "stream",
     "text": [
      "95,2550\n"
     ]
    }
   ],
   "source": [
    "n,c = [int(i) for i in input().split(\",\")]\n",
    "price_list = [int(i) for i in input().split(\",\")]\n",
    "demand_list= [int(i) for i in input().split(\",\")]\n",
    "\n",
    "max_demand =demand_list[0]\n",
    "max_profit = (price_list[0]-c)*demand_list[0]\n",
    "max_price = price_list[0]\n",
    "for i in range(n):\n",
    "    profit = (price_list[i]-c)*demand_list[i]\n",
    "    if(profit >= max_profit):\n",
    "        if(profit==max_profit):\n",
    "            if(demand_list[i]>max_demand):\n",
    "                max_demand = demand_list[i]\n",
    "                max_profit = profit\n",
    "                max_price=price_list[i]\n",
    "        else:\n",
    "            max_demand = demand_list[i]\n",
    "            max_profit = profit\n",
    "            max_price=price_list[i]\n",
    "print(max_price,max_profit,sep=',')"
   ]
  },
  {
   "cell_type": "markdown",
   "metadata": {},
   "source": [
    "#### Q3 - 檢查背包\n",
    "* 看他要帶的東西會不會超過"
   ]
  },
  {
   "cell_type": "code",
   "execution_count": null,
   "metadata": {},
   "outputs": [],
   "source": [
    "n, B = [int(i) for i in input().split(\",\")]\n",
    "weight = [int(i) for i in input().split(\",\")]\n",
    "benefit = [int(i) for i in input().split(\",\")]\n",
    "bring = [int(i) for i in input().split(\",\")]\n",
    "\n",
    "\n",
    "total_weight=0\n",
    "total_benefit =0\n",
    "\n",
    "for i in range(n):\n",
    "    if (bring[i]==1):\n",
    "        total_weight += weight[i]\n",
    "        total_benefit += benefit[i]\n",
    "        if total_weight > B:\n",
    "            total_benefit = -1\n",
    "            break\n",
    "\n",
    "if total_benefit != -1:\n",
    "    print(total_weight, total_benefit, sep=',')\n",
    "else:\n",
    "    print(-1)"
   ]
  },
  {
   "cell_type": "markdown",
   "metadata": {},
   "source": [
    "#### Q4 - 檢查多個背包\n",
    "* 我們將給你許多組解、要求你判斷各組解是否為可行解，並在可行解中找出其中最好的解。\n",
    "* 如果有多個最好的解，請挑出編號最小的那個。"
   ]
  },
  {
   "cell_type": "code",
   "execution_count": 13,
   "metadata": {},
   "outputs": [
    {
     "name": "stdin",
     "output_type": "stream",
     "text": [
      " 5,9\n",
      " 2,3,4,3,8\n",
      " 2,4,5,3,10\n",
      " 4\n",
      " 1,1,1,0,1,0\n",
      " 4,1,0,1,1,0\n",
      " 3,0,1,1,1,0\n",
      " 2,0,0,0,0,1\n"
     ]
    },
    {
     "name": "stdout",
     "output_type": "stream",
     "text": [
      "2,8,10\n"
     ]
    }
   ],
   "source": [
    "n, B = [int(i) for i in input().split(\",\")]\n",
    "weight = [int(i) for i in input().split(\",\")]\n",
    "benefit = [int(i) for i in input().split(\",\")]\n",
    "solutions = int(input())\n",
    "max_benefit = -1 \n",
    "max_index=101\n",
    "max_weight =0\n",
    "for i in range(solutions):\n",
    "    total_weight=0\n",
    "    total_benefit =0\n",
    "    bring = [int(j) for j in input().split(\",\")]\n",
    "    index = bring[0]\n",
    "    \n",
    "    for k in range(1,n+1):\n",
    "        if (bring[k]==1):\n",
    "            total_weight += weight[k-1]\n",
    "            total_benefit += benefit[k-1]\n",
    "            if total_weight > B:\n",
    "                total_benefit = -1\n",
    "                break\n",
    "    if(total_benefit >= max_benefit):\n",
    "        if(total_benefit==max_benefit):\n",
    "            if(index < max_index):\n",
    "                max_index = index\n",
    "                max_benefit = total_benefit\n",
    "                max_weight = total_weight\n",
    "        else:\n",
    "            max_index = index\n",
    "            max_benefit = total_benefit\n",
    "            max_weight = total_weight\n",
    "        \n",
    "        \n",
    "\n",
    "\n",
    "if max_benefit!= -1:\n",
    "    print(max_index,max_weight, max_benefit, sep=',')\n",
    "else:\n",
    "    print(-1)"
   ]
  },
  {
   "cell_type": "code",
   "execution_count": null,
   "metadata": {},
   "outputs": [],
   "source": [
    "4\n",
    "1,1,1,0,1,0\n",
    "4,1,0,1,1,0\n",
    "3,0,1,1,1,0\n",
    "2,0,0,0,0,1"
   ]
  }
 ],
 "metadata": {
  "kernelspec": {
   "display_name": "Python 3",
   "language": "python",
   "name": "python3"
  },
  "language_info": {
   "codemirror_mode": {
    "name": "ipython",
    "version": 3
   },
   "file_extension": ".py",
   "mimetype": "text/x-python",
   "name": "python",
   "nbconvert_exporter": "python",
   "pygments_lexer": "ipython3",
   "version": "3.7.6"
  }
 },
 "nbformat": 4,
 "nbformat_minor": 4
}
