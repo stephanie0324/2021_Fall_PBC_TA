{
 "cells": [
  {
   "cell_type": "markdown",
   "metadata": {},
   "source": [
    "## 10/16 作業一"
   ]
  },
  {
   "cell_type": "markdown",
   "metadata": {},
   "source": [
    "### Q1\n",
    "#### 商品購買問題"
   ]
  },
  {
   "cell_type": "code",
   "execution_count": null,
   "metadata": {},
   "outputs": [],
   "source": [
    "money = int(input())\n",
    "s = int(input())\n",
    "m = int(input())\n",
    "if(money>=s):\n",
    "    money-=s\n",
    "if(money>=m):\n",
    "    money-=m\n",
    "print(money)"
   ]
  },
  {
   "cell_type": "markdown",
   "metadata": {},
   "source": [
    "### Q2\n",
    "#### 銀行轉帳問題"
   ]
  },
  {
   "cell_type": "code",
   "execution_count": null,
   "metadata": {},
   "outputs": [],
   "source": [
    "x1 = int(input())\n",
    "x2 = int(input())\n",
    "r = int(input())\n",
    "t = int(input())\n",
    "if(t>x1):\n",
    "    x2+=r*x1\n",
    "    x1=0\n",
    "else:\n",
    "    x1-=t\n",
    "    x2+=r*t\n",
    "print(x1,end=',')\n",
    "print(x2)"
   ]
  },
  {
   "cell_type": "markdown",
   "metadata": {},
   "source": [
    "### Q3\n",
    "#### 選課問題, 篩選學生問題"
   ]
  },
  {
   "cell_type": "code",
   "execution_count": null,
   "metadata": {},
   "outputs": [],
   "source": [
    "##第三題\n",
    "n1 = int(input())\n",
    "n2 = int(input())\n",
    "n3 = int(input())\n",
    "d1 = int(input())\n",
    "d2 = int(input())\n",
    "d3 = int(input())\n",
    "a1 = int(input())\n",
    "a2 = int(input())\n",
    "\n",
    "min_n=0\n",
    "mid_n=0\n",
    "max_n=0\n",
    "\n",
    "##=============================\n",
    "if(d1==a1 or d1==a2):\n",
    "    min_n=n1\n",
    "    if(d2==a1 or d2==a2):\n",
    "        if(d3==a1 or d3==a2):\n",
    "            if(n2<min_n):\n",
    "                min_n=n2\n",
    "                if(n3<min_n):\n",
    "                    min_n=n3\n",
    "                    mid_n=n2\n",
    "                    max_n=n1\n",
    "                else:\n",
    "                    if(n1<n3):\n",
    "                        mid_n=n1\n",
    "                        max_n=n3\n",
    "                    else:\n",
    "                        mid_n=n3\n",
    "                        max_n=n1\n",
    "            else:\n",
    "                if(n3<min_n):\n",
    "                    min_n=n3\n",
    "                    mid_n=n1\n",
    "                    max_n=n2\n",
    "                else:\n",
    "                    if(n2<n3):\n",
    "                        mid_n=n2\n",
    "                        max_n=n3\n",
    "                    else:\n",
    "                        mid_n=n3\n",
    "                        max_n=n2\n",
    "        else:\n",
    "            if(n2<min_n):\n",
    "                min_n=n2\n",
    "                mid_n=n1\n",
    "            else:\n",
    "                mid_n=n2\n",
    "    else:\n",
    "        if(d3==a1 or d3==a2):\n",
    "            if(n3<min_n):\n",
    "                min_n=n3\n",
    "                mid_n=n1\n",
    "            else:\n",
    "                mid_n=n3\n",
    "elif(d2==a1 or d2==a2):\n",
    "    min_n=n2\n",
    "    if(d3==a1 or d3==a2):\n",
    "        if(n3<min_n):\n",
    "            min_n=n3\n",
    "            mid_n=n2\n",
    "        else:\n",
    "            mid_n=n3\n",
    "elif(d3==a1 or d3==a2):\n",
    "    min_n=n3\n",
    "\n",
    "\n",
    "##print\n",
    "if(min_n!=0 and mid_n!=0 and max_n!=0):\n",
    "    print(min_n,end=',')\n",
    "    print(mid_n,end=',')\n",
    "    print(max_n)\n",
    "elif(mid_n==0 and min_n!=0):\n",
    "    print(min_n)\n",
    "elif(max_n==0 and min_n!=0):\n",
    "    print(min_n,end=',')\n",
    "    print(mid_n)\n",
    "else:\n",
    "    print(\"-1\")\n"
   ]
  },
  {
   "cell_type": "markdown",
   "metadata": {},
   "source": [
    "### 第四題\n",
    "#### 幾A幾B"
   ]
  },
  {
   "cell_type": "code",
   "execution_count": null,
   "metadata": {},
   "outputs": [],
   "source": [
    "##第四題\n",
    "a_cnt=int(0)\n",
    "b_cnt=int(0)\n",
    "\n",
    "str1=input()\n",
    "str2=input()\n",
    "\n",
    "for i in range(3):\n",
    "    if(str1[i] in str2):\n",
    "        if(str1[i]==str2[i]):\n",
    "            a_cnt+=1\n",
    "        else:\n",
    "            b_cnt+=1\n",
    "print(str(a_cnt)+\"A\"+str(b_cnt)+\"B\")\n",
    "        "
   ]
  }
 ],
 "metadata": {
  "kernelspec": {
   "display_name": "Python 3",
   "language": "python",
   "name": "python3"
  },
  "language_info": {
   "codemirror_mode": {
    "name": "ipython",
    "version": 3
   },
   "file_extension": ".py",
   "mimetype": "text/x-python",
   "name": "python",
   "nbconvert_exporter": "python",
   "pygments_lexer": "ipython3",
   "version": "3.7.6"
  }
 },
 "nbformat": 4,
 "nbformat_minor": 4
}
